{
 "cells": [
  {
   "cell_type": "code",
   "execution_count": 30,
   "id": "3b1ce681",
   "metadata": {},
   "outputs": [],
   "source": [
    "import numpy as np\n",
    "from dataclasses import dataclass\n",
    "import numpy as np"
   ]
  },
  {
   "cell_type": "code",
   "execution_count": 31,
   "id": "796c65e1",
   "metadata": {},
   "outputs": [],
   "source": [
    "@dataclass\n",
    "class CIRParams:\n",
    "    kappa: float\n",
    "    theta: float\n",
    "    sigma: float\n",
    "    r0: float"
   ]
  },
  {
   "cell_type": "code",
   "execution_count": 32,
   "id": "11bfe0f5",
   "metadata": {},
   "outputs": [],
   "source": [
    "def cir_A_B(params: CIRParams, t: float, T: float):\n",
    "    \"\"\"\n",
    "    Closed-form CIR bond price coefficients: P(t,T) = A * exp(-B * r_t)\n",
    "    \"\"\"\n",
    "    kappa, theta, sigma = params.kappa, params.theta, params.sigma\n",
    "    tau = max(T - t, 0)\n",
    "    if tau == 0:\n",
    "        return 1, 0\n",
    "    gamma = np.sqrt(kappa**2 + 2.0 * sigma**2)\n",
    "    # B(t,T)\n",
    "    numerator = 2 * (np.exp(gamma * tau) - 1)\n",
    "    denominator = (gamma + kappa) * (np.exp(gamma * tau) - 1) + 2 * gamma\n",
    "    B = numerator / denominator * 2\n",
    "    \n",
    "    B = 2 * (np.exp(gamma * tau) - 1) / ((gamma + kappa) * (np.exp(gamma * tau) - 1) + 2 * gamma)\n",
    "    logA_num = 2 * gamma * np.exp((kappa + gamma) * tau / 2)\n",
    "    logA_den = (gamma + kappa) * (np.exp(gamma * tau) - 1) + 2 * gamma\n",
    "    A = (logA_num / logA_den) ** (2 * kappa * theta / (sigma**2))\n",
    "    return A, B"
   ]
  },
  {
   "cell_type": "code",
   "execution_count": 33,
   "id": "8ae133a9",
   "metadata": {},
   "outputs": [],
   "source": [
    "def P0T(params: CIRParams, T: float) -> float:\n",
    "    A, B = cir_A_B(params, 0, T)\n",
    "    return A * np.exp(-B * params.r0)"
   ]
  },
  {
   "cell_type": "code",
   "execution_count": 34,
   "id": "4c1b224a",
   "metadata": {},
   "outputs": [],
   "source": [
    "def simulate_CIR_paths(params: CIRParams, T: float, n_steps: int, n_paths: int):\n",
    "    \"\"\"\n",
    "    Exact transitions for CIR on a time grid\n",
    "    \"\"\"\n",
    "    kappa, theta, sigma, r0 = params.kappa, params.theta, params.sigma, params.r0\n",
    "    dt = T / n_steps\n",
    "    r = np.full(n_paths, r0, dtype=float)\n",
    "    int_r = np.zeros(n_paths, dtype=float)  # trapezoidal approx\n",
    "    \n",
    "    exp_kdt = np.exp(-kappa * dt)\n",
    "    c = (sigma**2) * (1.0 - exp_kdt) / (4.0 * kappa)  # for noncentral chi-square scale\n",
    "    \n",
    "    for _ in range(n_steps):\n",
    "        d = 4.0 * kappa * theta / (sigma**2)\n",
    "        lam = (4.0 * kappa * exp_kdt / (sigma**2 * (1.0 - exp_kdt))) * r\n",
    "        X = np.random.noncentral_chisquare(df=d, nonc=lam, size=n_paths)\n",
    "        r_new = c * X\n",
    "        int_r += 0.5 * (r + r_new) * dt\n",
    "        r = r_new\n",
    "    \n",
    "    return r, int_r"
   ]
  },
  {
   "cell_type": "code",
   "execution_count": 35,
   "id": "9aa686fe",
   "metadata": {},
   "outputs": [],
   "source": [
    "def swap_analytics(params: CIRParams, K: float, T_exp: float, payment_times):\n",
    "    \"\"\"\n",
    "    Deterministic (no MC) value at t=0 of the forward-start payer swap (starting at T_exp)\n",
    "    \"\"\"\n",
    "    P0_Texp = P0T(params, T_exp)\n",
    "    P0_Tend = P0T(params, payment_times[-1])\n",
    "    deltas = np.diff([T_exp] + list(payment_times))\n",
    "    P0_payments = np.array([P0T(params, t) for t in payment_times])\n",
    "    A0 = np.sum(deltas * P0_payments)\n",
    "    V_swap0 = P0_Texp - P0_Tend - K * A0\n",
    "    return V_swap0, A0, P0_Texp, P0_Tend"
   ]
  },
  {
   "cell_type": "code",
   "execution_count": 36,
   "id": "dca6f539",
   "metadata": {},
   "outputs": [],
   "source": [
    "def price_swaptions_MC(params: CIRParams, K: float, T_exp: float, payment_times, n_paths=1000, n_steps=400):\n",
    "    \"\"\"\n",
    "    Monte Carlo under risk-neutral measure. Price payer/receiver swaptions with expiry T_exp\n",
    "    \"\"\"\n",
    "    r_T, int_r = simulate_CIR_paths(params, T_exp, n_steps, n_paths)\n",
    "    D0T = np.exp(-int_r)  # discount factor to T_exp\n",
    "    \n",
    "    def P_T_U(U):\n",
    "        A, B = cir_A_B(params, T_exp, U)\n",
    "        return A * np.exp(-B * r_T)\n",
    "    \n",
    "    P_T_end = P_T_U(payment_times[-1])\n",
    "    deltas = np.diff([T_exp] + list(payment_times))\n",
    "    P_T_payments = np.column_stack([P_T_U(t) for t in payment_times])\n",
    "    V_T = 1.0 - P_T_end - K * np.sum(deltas * P_T_payments, axis=1)\n",
    "    payer_payoff = np.maximum(V_T, 0.0)\n",
    "    receiver_payoff = np.maximum(-V_T, 0.0)\n",
    "    payer_price = np.mean(D0T * payer_payoff)\n",
    "    receiver_price = np.mean(D0T * receiver_payoff)\n",
    "    return payer_price, receiver_price, V_T.mean(), D0T.mean()"
   ]
  },
  {
   "cell_type": "code",
   "execution_count": 37,
   "id": "c041244b",
   "metadata": {},
   "outputs": [],
   "source": [
    "params = CIRParams(\n",
    "    kappa=0.6,   \n",
    "    theta=0.03,  \n",
    "    sigma=0.12,  \n",
    "    r0=0.02      \n",
    ")\n",
    "T_exp = 1     \n",
    "tenor_years = 5 \n",
    "freq = 4           \n",
    "n_payments = int(tenor_years * freq)\n",
    "payment_times = [T_exp + (i+1)/freq for i in range(n_payments)]"
   ]
  },
  {
   "cell_type": "code",
   "execution_count": 38,
   "id": "fd54c7ac",
   "metadata": {},
   "outputs": [],
   "source": [
    "_, A0, P0_Texp, P0_Tend = swap_analytics(params, 0, T_exp, payment_times)\n",
    "S_fwd = (P0_Texp - P0_Tend) / A0\n",
    "K = S_fwd  # atm\n",
    "V_swap0, A0, P0_Texp, P0_Tend = swap_analytics(params, K, T_exp, payment_times)\n",
    "parity_rhs = V_swap0 \n",
    "payer_px, receiver_px, avg_VT, avg_D0T = price_swaptions_MC(params, K, T_exp, payment_times, n_paths=20000, n_steps=400)\n",
    "parity_lhs = payer_px - receiver_px"
   ]
  },
  {
   "cell_type": "code",
   "execution_count": 39,
   "id": "2480e3ec",
   "metadata": {},
   "outputs": [
    {
     "name": "stdout",
     "output_type": "stream",
     "text": [
      "Forward par rate S_fwd                  : 0.0279479911\n",
      "Strike K                                : 0.0279479911\n",
      "PVBP A0                                 : 4.5553469387\n",
      "P(0, T_exp)                             : 0.9778034026\n",
      "P(0, T_end)                             : 0.8504906067\n",
      "Swap PV at t=0 (payer)                  : 0.0000000000\n",
      "Parity RHS (PVBP*(S_fwd - K))           : 0.0000000000\n",
      "Payer swaption (MC)                     : 0.0079375248\n",
      "Receiver swaption (MC)                  : 0.0078681257\n",
      "Parity LHS (payer - receiver)           : 0.0000693992\n",
      "Parity error (LHS - RHS)                : 0.0000693992\n",
      "Avg discount to expiry E[D(0,T)] (MC)   : 0.9777429125\n",
      "Avg swap value at expiry E[V_T] (MC, raw): 0.0002035842\n"
     ]
    }
   ],
   "source": [
    "result = {\n",
    "    \"Forward par rate S_fwd\": S_fwd,\n",
    "    \"Strike K\": K,\n",
    "    \"PVBP A0\": A0,\n",
    "    \"P(0, T_exp)\": P0_Texp,\n",
    "    \"P(0, T_end)\": P0_Tend,\n",
    "    \"Swap PV at t=0 (payer)\": V_swap0,\n",
    "    \"Parity RHS (PVBP*(S_fwd - K))\": parity_rhs,\n",
    "    \"Payer swaption (MC)\": payer_px,\n",
    "    \"Receiver swaption (MC)\": receiver_px,\n",
    "    \"Parity LHS (payer - receiver)\": parity_lhs,\n",
    "    \"Parity error (LHS - RHS)\": parity_lhs - parity_rhs,\n",
    "    \"Avg discount to expiry E[D(0,T)] (MC)\": avg_D0T,\n",
    "    \"Avg swap value at expiry E[V_T] (MC, raw)\": avg_VT\n",
    "}\n",
    "\n",
    "for k, v in result.items():\n",
    "    print(f\"{k:40s}: {v:.10f}\")"
   ]
  }
 ],
 "metadata": {
  "kernelspec": {
   "display_name": "Python 3 (ipykernel)",
   "language": "python",
   "name": "python3"
  },
  "language_info": {
   "codemirror_mode": {
    "name": "ipython",
    "version": 3
   },
   "file_extension": ".py",
   "mimetype": "text/x-python",
   "name": "python",
   "nbconvert_exporter": "python",
   "pygments_lexer": "ipython3",
   "version": "3.9.13"
  }
 },
 "nbformat": 4,
 "nbformat_minor": 5
}
