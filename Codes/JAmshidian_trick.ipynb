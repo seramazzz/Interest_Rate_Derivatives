{
 "cells": [
  {
   "cell_type": "code",
   "execution_count": 1,
   "id": "9e8a2fef",
   "metadata": {},
   "outputs": [],
   "source": [
    "from dataclasses import dataclass\n",
    "import numpy as np\n",
    "from numpy import exp, log, sqrt\n",
    "from scipy.stats import norm"
   ]
  },
  {
   "cell_type": "code",
   "execution_count": 2,
   "id": "de73c55a",
   "metadata": {},
   "outputs": [],
   "source": [
    "@dataclass\n",
    "class Vasicek:\n",
    "    kappa: float\n",
    "    theta: float\n",
    "    sigma: float\n",
    "    r0: float"
   ]
  },
  {
   "cell_type": "code",
   "execution_count": 3,
   "id": "a0579df1",
   "metadata": {},
   "outputs": [],
   "source": [
    "def vasicek_AB(params: Vasicek, t: float, T: float):\n",
    "    \"\"\"\n",
    "    Bond\n",
    "    \"\"\"\n",
    "    k, th, s = params.kappa, params.theta, params.sigma\n",
    "    tau = max(T - t, 0)\n",
    "    if tau == 0:\n",
    "        return 1, 0\n",
    "    B = (1 - np.exp(-k * tau)) / k\n",
    "    A = np.exp((th - s*s/(2*k*k))*(B - tau) - (s*s)*(B*B)/(4*k))\n",
    "    return A, B\n",
    "\n",
    "def P0T(params: Vasicek, T: float) -> float:\n",
    "    A, B = vasicek_AB(params, 0.0, T)\n",
    "    return A * np.exp(-B * params.r0)"
   ]
  },
  {
   "cell_type": "code",
   "execution_count": 4,
   "id": "7d436432",
   "metadata": {},
   "outputs": [],
   "source": [
    "def vasicek_bond_option_0(params: Vasicek, T: float, S: float, K: float, call: bool = True) -> float:\n",
    "    \"\"\"\n",
    "    Price at t=0 of bond option\n",
    "    \"\"\"\n",
    "    P0S = P0T(params, S)\n",
    "    P0T_ = P0T(params, T)\n",
    "\n",
    "    k, s = params.kappa, params.sigma\n",
    "    sigP2 = (s*s / (2 * k**3)) * (1 - np.exp(-k*T))**2 * (1 - np.exp(-2*k*(S - T)))\n",
    "    sigP = np.sqrt(max(sigP2, 0))\n",
    "    x = np.log(P0S / (K * P0T_))\n",
    "    d1 = (x + 0.5 * sigP*sigP) / sigP\n",
    "    d2 = d1 - sigP\n",
    "\n",
    "    if call:\n",
    "        return P0S * norm.cdf(d1) - K * P0T_ * norm.cdf(d2)\n",
    "    else:\n",
    "        return K * P0T_ * norm.cdf(-d2) - P0S * norm.cdf(-d1)"
   ]
  },
  {
   "cell_type": "code",
   "execution_count": 6,
   "id": "4f629986",
   "metadata": {},
   "outputs": [],
   "source": [
    "def jamshidian_swaption_vasicek(\n",
    "    params: Vasicek,\n",
    "    T_exp: float,\n",
    "    pay_times: np.ndarray, \n",
    "    deltas: np.ndarray,  \n",
    "    K: float,    \n",
    "    notional: float = 1.0,\n",
    "    payer: bool = True,  \n",
    "):\n",
    "    \"\"\"\n",
    "    Jamshidian trick\n",
    "    \"\"\"\n",
    "    #assert np.all(pay_times > T_exp), \"All cashflows must be after option expiry.\"\n",
    "    N = len(pay_times)\n",
    "    c = K * deltas.copy()\n",
    "    c[-1] += 1  # notional for the last payment\n",
    "\n",
    "    def P_TU_at_r(TU, r):\n",
    "        A, B = vasicek_AB(params, T_exp, TU)\n",
    "        return A * np.exp(-B * r)\n",
    "    def g_of_r(r): # solver\n",
    "        return P_TU_at_r(pay_times[-1], r) + K * np.sum(deltas * np.array([P_TU_at_r(ti, r) for ti in pay_times])) - 1.0\n",
    "\n",
    "    rL, rH = -0.2, 1\n",
    "    for _ in range(20):\n",
    "        gL, gH = g_of_r(rL), g_of_r(rH)\n",
    "        if gL * gH <= 0:\n",
    "            break\n",
    "        rL -= 1/4\n",
    "        rH += 1/4\n",
    "\n",
    "    for _ in range(100):\n",
    "        rm = 0.5 * (rL + rH)\n",
    "        gm = g_of_r(rm)\n",
    "        if abs(gm) < 1e-14:\n",
    "            r_star = rm\n",
    "            break\n",
    "        if gL * gm <= 0:\n",
    "            rH, gH = rm, gm\n",
    "        else:\n",
    "            rL, gL = rm, gm\n",
    "    else:\n",
    "        r_star = 0.5 * (rL + rH)\n",
    "\n",
    "    K_strikes = np.array([P_TU_at_r(ti, r_star) for ti in pay_times])\n",
    "\n",
    "    # sum of ZC bond options\n",
    "    price = 0\n",
    "    for j, (tj, cj, Kj) in enumerate(zip(pay_times, c, K_strikes)):\n",
    "        if cj == 0:\n",
    "            continue\n",
    "        if payer:\n",
    "            price += cj * vasicek_bond_option_0(params, T_exp, tj, Kj, call=False)\n",
    "        else:\n",
    "            price += cj * vasicek_bond_option_0(params, T_exp, tj, Kj, call=True)\n",
    "\n",
    "    return notional * price, r_star, K_strikes"
   ]
  },
  {
   "cell_type": "code",
   "execution_count": 7,
   "id": "e4bc7e8e",
   "metadata": {},
   "outputs": [
    {
     "name": "stdout",
     "output_type": "stream",
     "text": [
      "Payer swaption (Jamshidian):  0.0049897648\n",
      "Receiver swaption (Jamshidian): 0.0117989747\n",
      "r* (payer) = 0.031757,  r* (receiver) = 0.031757\n"
     ]
    }
   ],
   "source": [
    "def forward_swap_rate_and_pvbp(params: Vasicek, T_exp: float, pay_times: np.ndarray, deltas: np.ndarray):\n",
    "    A0 = np.sum(deltas * np.array([P0T(params, ti) for ti in pay_times]))\n",
    "    S0 = (P0T(params, T_exp) - P0T(params, pay_times[-1])) / A0\n",
    "    return S0, A0\n",
    "\n",
    "vas = Vasicek(\n",
    "    kappa=0.6,\n",
    "    theta=0.03,\n",
    "    sigma=0.02,\n",
    "    r0=0.02\n",
    ")\n",
    "T_exp = 2\n",
    "tenor_years = 3\n",
    "freq = 2  # semi-annual\n",
    "pay_times = T_exp + np.arange(1, int(tenor_years * freq) + 1) / freq\n",
    "deltas = np.full_like(pay_times, 1/freq, dtype=float)\n",
    "S0, A0 = forward_swap_rate_and_pvbp(vas, T_exp, pay_times, deltas)\n",
    "K = S0 + 0.0025\n",
    "payer_px, r_star_pay, Kjs = jamshidian_swaption_vasicek(vas, T_exp, pay_times, deltas, K, payer=True)\n",
    "recv_px,  r_star_rec, _    = jamshidian_swaption_vasicek(vas, T_exp, pay_times, deltas, K, payer=False)\n",
    "\n",
    "print(f\"Payer swaption (Jamshidian):  {payer_px:.10f}\")\n",
    "print(f\"Receiver swaption (Jamshidian): {recv_px:.10f}\")\n",
    "print(f\"r* (payer) = {r_star_pay:.6f},  r* (receiver) = {r_star_rec:.6f}\")"
   ]
  },
  {
   "cell_type": "code",
   "execution_count": null,
   "id": "ea2ea2ee",
   "metadata": {},
   "outputs": [],
   "source": [
    "# r* turns out to be the same for payer/receiver\n",
    "# it is defined only by the strike K and the bond cashflows, not by option type\n",
    "# once you find the r* that makes the fixed-leg bond worth par at expiry,\n",
    "# that rate works for both pay and receive sides\n",
    "# what a beautiful example of no arbitrage "
   ]
  },
  {
   "cell_type": "code",
   "execution_count": 8,
   "id": "c60c4dba",
   "metadata": {},
   "outputs": [
    {
     "name": "stdout",
     "output_type": "stream",
     "text": [
      "Parity error: 1.003e-15\n"
     ]
    }
   ],
   "source": [
    "# parity check\n",
    "lhs = payer_px - recv_px\n",
    "rhs = A0 * (S0 - K)\n",
    "print(f\"Parity error: {lhs - rhs:.3e}\")"
   ]
  }
 ],
 "metadata": {
  "kernelspec": {
   "display_name": "Python 3 (ipykernel)",
   "language": "python",
   "name": "python3"
  },
  "language_info": {
   "codemirror_mode": {
    "name": "ipython",
    "version": 3
   },
   "file_extension": ".py",
   "mimetype": "text/x-python",
   "name": "python",
   "nbconvert_exporter": "python",
   "pygments_lexer": "ipython3",
   "version": "3.9.13"
  }
 },
 "nbformat": 4,
 "nbformat_minor": 5
}
